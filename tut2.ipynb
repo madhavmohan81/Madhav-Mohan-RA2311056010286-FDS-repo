{
 "cells": [
  {
   "cell_type": "code",
   "execution_count": 1,
   "id": "c85f1caf-862c-4dd7-a672-16358aeeeb06",
   "metadata": {},
   "outputs": [
    {
     "name": "stdout",
     "output_type": "stream",
     "text": [
      "[[[1, 2, 3, 4], [5, 6, 7, 8], [4, 7, 8, 3]], [[1, 2, 3, 4], [1, 4, 6, 8], [8, 6, 7, 3]], [[7, 4, 5, 6], [3, 4, 1, 2], [6, 7, 3, 4]], [[1, 2, 3, 4], [5, 6, 7, 8], [4, 7, 8, 3]], [[1, 2, 3, 4], [1, 4, 6, 8], [8, 6, 7, 3]], [[7, 4, 5, 6], [3, 4, 1, 2], [6, 7, 3, 4]]]\n"
     ]
    }
   ],
   "source": [
    "import numpy as np\n",
    "a=([[[1,2,3,4],[5,6,7,8],[4,7,8,3]],\n",
    "               [[1,2,3,4],[1,4,6,8],[8,6,7,3]],\n",
    "               [[7,4,5,6],[3,4,1,2],[6,7,3,4]]])\n",
    "b=([[[1,2,3,4],[5,6,7,8],[4,7,8,3]],\n",
    "               [[1,2,3,4],[1,4,6,8],[8,6,7,3]],\n",
    "               [[7,4,5,6],[3,4,1,2],[6,7,3,4]]])\n",
    "print(a+b)"
   ]
  },
  {
   "cell_type": "code",
   "execution_count": 35,
   "id": "54badb8f-fd7b-46d7-b3d0-000f95722e48",
   "metadata": {},
   "outputs": [
    {
     "name": "stdout",
     "output_type": "stream",
     "text": [
      "[[1 2 3 4]\n",
      " [5 6 7 8]\n",
      " [3 4 6 2]]\n",
      "  C_CONTIGUOUS : True\n",
      "  F_CONTIGUOUS : False\n",
      "  OWNDATA : True\n",
      "  WRITEABLE : True\n",
      "  ALIGNED : True\n",
      "  WRITEBACKIFCOPY : False\n",
      "\n",
      "(3, 4)\n",
      "(16, 4)\n",
      "2\n",
      "<memory at 0x000001B666CAB100>\n",
      "4\n",
      "None\n",
      "48\n",
      "[[1 5 3]\n",
      " [2 6 4]\n",
      " [3 7 6]\n",
      " [4 8 2]]\n",
      "[[1 2 3 4]\n",
      " [5 6 7 8]\n",
      " [3 4 6 2]]\n",
      "[[0 0 0 0]\n",
      " [0 0 0 0]\n",
      " [0 0 0 0]]\n",
      "12\n"
     ]
    }
   ],
   "source": [
    "import numpy as np \n",
    "arr1 = np.array([[1,2,3,4], [5,6,7,8], [3,4,6,2]])\n",
    "print(arr1)\n",
    "print(arr1.flags)\n",
    "print(arr1.shape)\n",
    "print(arr1.strides)\n",
    "print(arr1.ndim)\n",
    "print(arr1.data)                                                      \n",
    "print(arr1.itemsize)\n",
    "print(arr1.base)\n",
    "print(arr1.nbytes)\n",
    "print(arr1.T)\n",
    "print(arr1.real)\n",
    "print(arr1.imag)\n",
    "print(arr1.size)"
   ]
  },
  {
   "cell_type": "code",
   "execution_count": null,
   "id": "5edd9616-d082-4e28-b279-ddf197894d87",
   "metadata": {},
   "outputs": [],
   "source": []
  }
 ],
 "metadata": {
  "kernelspec": {
   "display_name": "Python 3 (ipykernel)",
   "language": "python",
   "name": "python3"
  },
  "language_info": {
   "codemirror_mode": {
    "name": "ipython",
    "version": 3
   },
   "file_extension": ".py",
   "mimetype": "text/x-python",
   "name": "python",
   "nbconvert_exporter": "python",
   "pygments_lexer": "ipython3",
   "version": "3.12.4"
  }
 },
 "nbformat": 4,
 "nbformat_minor": 5
}
