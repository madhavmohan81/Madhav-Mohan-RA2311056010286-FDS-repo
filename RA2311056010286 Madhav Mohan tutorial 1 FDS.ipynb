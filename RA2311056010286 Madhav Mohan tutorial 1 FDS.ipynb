{
 "cells": [
  {
   "cell_type": "code",
   "execution_count": 1,
   "id": "7c1ff5e0-e196-430d-9862-513b3d3d2a23",
   "metadata": {},
   "outputs": [
    {
     "name": "stdout",
     "output_type": "stream",
     "text": [
      "[1 2 3 4]\n"
     ]
    }
   ],
   "source": [
    "import numpy as np #question 1\n",
    "arr = np.array([1,2,3,4]);\n",
    "print(arr);"
   ]
  },
  {
   "cell_type": "code",
   "execution_count": 17,
   "id": "7231cdce-df56-4daa-bef9-bd35ccd046ce",
   "metadata": {},
   "outputs": [
    {
     "name": "stdout",
     "output_type": "stream",
     "text": [
      "[[4 4 4 4 4]\n",
      " [4 4 4 4 4]\n",
      " [4 4 4 4 4]\n",
      " [4 4 4 4 4]\n",
      " [4 4 4 4 4]\n",
      " [4 4 4 4 4]]\n"
     ]
    }
   ],
   "source": [
    "import numpy as np #question 2\n",
    "arr = np.full((6,5),4);\n",
    "print(arr);"
   ]
  },
  {
   "cell_type": "code",
   "execution_count": 25,
   "id": "5e483055-6350-4ec7-8b60-0e88b55d56bb",
   "metadata": {},
   "outputs": [
    {
     "name": "stdout",
     "output_type": "stream",
     "text": [
      "[[1. 0. 0.]\n",
      " [0. 1. 0.]\n",
      " [0. 0. 1.]]\n"
     ]
    }
   ],
   "source": [
    "import numpy as np #question 3\n",
    "arr = np.identity(3);\n",
    "print(arr);"
   ]
  },
  {
   "cell_type": "code",
   "execution_count": 19,
   "id": "38ccdc6a-bda9-445c-bfb9-32300a35096a",
   "metadata": {},
   "outputs": [
    {
     "name": "stdout",
     "output_type": "stream",
     "text": [
      "[[7 7 7 7 7 7 7 7 7 7]\n",
      " [7 7 7 7 7 7 7 7 7 7]\n",
      " [7 7 7 7 7 7 7 7 7 7]\n",
      " [7 7 7 7 7 7 7 7 7 7]\n",
      " [7 7 7 7 7 7 7 7 7 7]\n",
      " [7 7 7 7 7 7 7 7 7 7]\n",
      " [7 7 7 7 7 7 7 7 7 7]\n",
      " [7 7 7 7 7 7 7 7 7 7]\n",
      " [7 7 7 7 7 7 7 7 7 7]\n",
      " [7 7 7 7 7 7 7 7 7 7]]\n"
     ]
    }
   ],
   "source": [
    "import numpy as np #question 4\n",
    "arr = np.full((10,10),7);\n",
    "print(arr);"
   ]
  },
  {
   "cell_type": "code",
   "execution_count": 65,
   "id": "a1d85ac0-14c0-4748-aa7c-c364c695a6ce",
   "metadata": {},
   "outputs": [
    {
     "name": "stdout",
     "output_type": "stream",
     "text": [
      "[[1. 0. 0. 0. 0.]\n",
      " [0. 1. 0. 0. 0.]\n",
      " [0. 0. 1. 0. 0.]\n",
      " [0. 0. 0. 1. 0.]\n",
      " [0. 0. 0. 0. 1.]]\n",
      "[[1. 0. 0. 0. 0.]\n",
      " [0. 1. 0. 0. 0.]\n",
      " [0. 0. 1. 0. 0.]\n",
      " [0. 0. 0. 1. 0.]\n",
      " [0. 0. 0. 0. 1.]]\n",
      "[[0. 0. 1.]\n",
      " [0. 0. 0.]\n",
      " [0. 0. 0.]]\n",
      "[[1. 0. 0. 0. 0.]\n",
      " [0. 1. 0. 0. 0.]]\n",
      "[[1. 0.]\n",
      " [0. 1.]]\n",
      "[[1. 0.]\n",
      " [0. 1.]]\n",
      "[[1. 0. 0.]\n",
      " [0. 1. 0.]\n",
      " [0. 0. 1.]]\n"
     ]
    }
   ],
   "source": [
    "import numpy as np #question 5\n",
    "arr = np.eye(5);\n",
    "print(arr);\n",
    "print(arr[:,:]);\n",
    "print(arr[2:5,0:3]);\n",
    "print(arr[0:2,0:5]);\n",
    "print(arr[2:4,2:4]);\n",
    "print(arr[-3:-1,-3:-1]);\n",
    "print(arr[-4:-1,-4:-1]);\n"
   ]
  },
  {
   "cell_type": "code",
   "execution_count": 63,
   "id": "6d91c81a-c04e-42a1-9f4b-c5a478ac16ff",
   "metadata": {},
   "outputs": [
    {
     "name": "stdout",
     "output_type": "stream",
     "text": [
      "[[[1 2 3]\n",
      "  [3 4 5]\n",
      "  [6 7 7]]]\n",
      "The Dimensions are :  3\n"
     ]
    }
   ],
   "source": [
    "import numpy as np #question 6\n",
    "arr = np.array([[[1,2,3],[3,4,5],[6,7,7]]]);\n",
    "print(arr);\n",
    "print(\"The Dimensions are : \", np.ndim(arr));"
   ]
  },
  {
   "cell_type": "code",
   "execution_count": 100,
   "id": "974a2e12-4f46-45ba-b353-a196d26c352b",
   "metadata": {},
   "outputs": [
    {
     "name": "stdout",
     "output_type": "stream",
     "text": [
      "[[[[[[[[2 2 2 2]]]]]]]]\n"
     ]
    }
   ],
   "source": [
    "import numpy as np #question 7\n",
    "arr = np.array([2,2,2,2], ndmin=8);\n",
    "print(arr)\n"
   ]
  },
  {
   "cell_type": "code",
   "execution_count": null,
   "id": "f6ab2397-1786-4422-b33d-f03e14c2f2f5",
   "metadata": {},
   "outputs": [],
   "source": []
  }
 ],
 "metadata": {
  "kernelspec": {
   "display_name": "Python 3 (ipykernel)",
   "language": "python",
   "name": "python3"
  },
  "language_info": {
   "codemirror_mode": {
    "name": "ipython",
    "version": 3
   },
   "file_extension": ".py",
   "mimetype": "text/x-python",
   "name": "python",
   "nbconvert_exporter": "python",
   "pygments_lexer": "ipython3",
   "version": "3.12.4"
  }
 },
 "nbformat": 4,
 "nbformat_minor": 5
}
